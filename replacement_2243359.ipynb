{
  "nbformat": 4,
  "nbformat_minor": 0,
  "metadata": {
    "colab": {
      "private_outputs": true,
      "provenance": [],
      "authorship_tag": "ABX9TyNLVgHcJYQwSjF2fOumXSNn",
      "include_colab_link": true
    },
    "kernelspec": {
      "name": "python3",
      "display_name": "Python 3"
    },
    "language_info": {
      "name": "python"
    }
  },
  "cells": [
    {
      "cell_type": "markdown",
      "metadata": {
        "id": "view-in-github",
        "colab_type": "text"
      },
      "source": [
        "<a href=\"https://colab.research.google.com/github/maminseo/maminseo.github.io/blob/main/replacement_2243359.ipynb\" target=\"_parent\"><img src=\"https://colab.research.google.com/assets/colab-badge.svg\" alt=\"Open In Colab\"/></a>"
      ]
    },
    {
      "cell_type": "markdown",
      "source": [],
      "metadata": {
        "id": "8_FwXxHHU9O2"
      }
    },
    {
      "cell_type": "code",
      "execution_count": null,
      "metadata": {
        "id": "tqhJx6BfKGav"
      },
      "outputs": [],
      "source": [
        "def replacement_selection_sort(input_file, output_file, buffer_size=5):\n",
        "    with open(input_file, 'r') as infile, open(output_file, 'w') as outfile:\n",
        "        test_cases = int(infile.readline().strip())\n",
        "\n",
        "        for _ in range(test_cases):\n",
        "            n = int(infile.readline().strip())\n",
        "            numbers = list(map(int, infile.readline().strip().split()))\n",
        "\n",
        "            buffer = sorted(numbers[:buffer_size])\n",
        "            remaining_data = numbers[buffer_size:]\n",
        "            runs = []\n",
        "            current_run = []\n",
        "            next_buffer = []\n",
        "\n",
        "            while True:\n",
        "                if buffer:\n",
        "                    min_value = buffer.pop(0)\n",
        "                    current_run.append(min_value)\n",
        "\n",
        "                    if remaining_data:\n",
        "                        next_value = remaining_data.pop(0)\n",
        "                        if next_value >= min_value:\n",
        "                            buffer.append(next_value)\n",
        "                            buffer.sort()\n",
        "                        else:\n",
        "                            next_buffer.append(next_value)\n",
        "\n",
        "                if not buffer:\n",
        "                    runs.append(current_run)\n",
        "                    current_run = []\n",
        "                    if next_buffer:\n",
        "                        buffer = next_buffer\n",
        "                        buffer.sort()\n",
        "                        next_buffer = []\n",
        "                    else:\n",
        "                        break\n",
        "\n",
        "            outfile.write(f\"{len(runs)}\\n\")\n",
        "            for run in runs:\n",
        "                outfile.write(\" \".join(map(str, run)) + \"\\n\")\n",
        "\n",
        "replacement_selection_sort(\"replacement_input.txt\", \"replacement_output.txt\")\n"
      ]
    }
  ]
}